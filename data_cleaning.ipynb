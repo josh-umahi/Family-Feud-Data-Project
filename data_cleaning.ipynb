{
 "cells": [
  {
   "cell_type": "markdown",
   "metadata": {},
   "source": [
    "#### Import the necessary modules"
   ]
  },
  {
   "cell_type": "code",
   "execution_count": 1,
   "metadata": {},
   "outputs": [
    {
     "name": "stdout",
     "output_type": "stream",
     "text": [
      "Modules have been successfully imported\n"
     ]
    }
   ],
   "source": [
    "import pandas as pd\n",
    "import numpy as np\n",
    "\n",
    "print(\"Modules have been successfully imported\")"
   ]
  },
  {
   "cell_type": "markdown",
   "metadata": {},
   "source": [
    "#### Initial Configuration"
   ]
  },
  {
   "cell_type": "code",
   "execution_count": 2,
   "metadata": {},
   "outputs": [],
   "source": [
    "pd.set_option('display.max_colwidth', 30)"
   ]
  },
  {
   "cell_type": "markdown",
   "metadata": {},
   "source": [
    "#### Import the datasets"
   ]
  },
  {
   "cell_type": "code",
   "execution_count": 3,
   "metadata": {},
   "outputs": [
    {
     "name": "stdout",
     "output_type": "stream",
     "text": [
      "(740, 15)\n",
      "Index(['Question', 'Answer 1', '#1', 'Answer 2', '#2', 'Answer 3', '#3',\n",
      "       'Answer 4', '#4', 'Answer 5', '#5', 'Answer 6', '#6', 'Answer 7', '#7'],\n",
      "      dtype='object')\n"
     ]
    }
   ],
   "source": [
    "question_sets_folder = \"data/Question Sets\"\n",
    "\n",
    "df_7_answers = pd.read_csv(f\"{question_sets_folder}/7 answers.csv\")\n",
    "\n",
    "print(df_7_answers.shape)\n",
    "print(df_7_answers.columns)"
   ]
  },
  {
   "cell_type": "markdown",
   "metadata": {},
   "source": [
    "#### Strip all columns"
   ]
  },
  {
   "cell_type": "code",
   "execution_count": 4,
   "metadata": {},
   "outputs": [
    {
     "name": "stdout",
     "output_type": "stream",
     "text": [
      "['Question', 'Answer 1', '#1', 'Answer 2', '#2', 'Answer 3', '#3', 'Answer 4', '#4', 'Answer 5', '#5', 'Answer 6', '#6', 'Answer 7', '#7']\n"
     ]
    }
   ],
   "source": [
    "# List of column names to strip\n",
    "columns_to_strip = df_7_answers.columns.tolist()\n",
    "\n",
    "# Iterate over columns and strip leading/trailing whitespace from string columns\n",
    "for col in columns_to_strip:\n",
    "    if df_7_answers[col].dtype == 'object':  # Check if column contains string values\n",
    "        df_7_answers[col] = df_7_answers[col].str.strip()\n",
    "        \n",
    "print(columns_to_strip)"
   ]
  },
  {
   "cell_type": "markdown",
   "metadata": {},
   "source": [
    "#### Drop invalid rows"
   ]
  },
  {
   "cell_type": "code",
   "execution_count": 8,
   "metadata": {},
   "outputs": [
    {
     "name": "stdout",
     "output_type": "stream",
     "text": [
      "   #1  #2  #3  #4  #5  #6  #7\n",
      "0  22  19  15  11  10   9   8\n",
      "2  19  17  15  13  11  11  10\n",
      "4  19  18  16  14  10   9   4\n",
      "6  26  20  13  11  10   8   7\n",
      "7  21  17  16  15  11   9   5\n",
      "(731, 15)\n",
      "Question    object\n",
      "Answer 1    object\n",
      "#1           Int16\n",
      "Answer 2    object\n",
      "#2           Int16\n",
      "Answer 3    object\n",
      "#3           Int16\n",
      "Answer 4    object\n",
      "#4           Int16\n",
      "Answer 5    object\n",
      "#5           Int16\n",
      "Answer 6    object\n",
      "#6           Int16\n",
      "Answer 7    object\n",
      "#7           Int16\n",
      "dtype: object\n"
     ]
    }
   ],
   "source": [
    "# Initial Drop duplicates\n",
    "df_7_answers = df_7_answers.drop_duplicates()\n",
    "\n",
    "# Drop duplicates by similar question\n",
    "df_7_answers[\"formatted_question\"] = df_7_answers[\"Question\"].astype(str).str.lower().str.split().str.join(\"\")\n",
    "df_7_answers = df_7_answers.drop_duplicates(subset=['formatted_question'], keep='first')\n",
    "df_7_answers = df_7_answers.drop(columns=[\"formatted_question\"])\n",
    "\n",
    "# Drop rows where there is an answer with NaN votes (and convert votes columns into integer)\n",
    "for i in range(1,8):\n",
    "    df_7_answers[f'#{i}'] = pd.to_numeric(df_7_answers[f'#{i}'], errors='coerce').astype('Int16')\n",
    "df_7_answers = df_7_answers.dropna()\n",
    "\n",
    "# Drop rows where there is an answer with 0 votes\n",
    "for i in range(1,8):\n",
    "    df_7_answers = df_7_answers[df_7_answers[f'#{i}']!= 0]\n",
    "    \n",
    "selected_columns = df_7_answers[[f'#{i}' for i in range(1,8)]]\n",
    "\n",
    "print(selected_columns.head())\n",
    "print(df_7_answers.shape)\n",
    "print(df_7_answers.dtypes)\n"
   ]
  },
  {
   "cell_type": "markdown",
   "metadata": {},
   "source": [
    "#### "
   ]
  },
  {
   "cell_type": "markdown",
   "metadata": {},
   "source": []
  }
 ],
 "metadata": {
  "kernelspec": {
   "display_name": "Python 3",
   "language": "python",
   "name": "python3"
  },
  "language_info": {
   "codemirror_mode": {
    "name": "ipython",
    "version": 3
   },
   "file_extension": ".py",
   "mimetype": "text/x-python",
   "name": "python",
   "nbconvert_exporter": "python",
   "pygments_lexer": "ipython3",
   "version": "3.12.3"
  }
 },
 "nbformat": 4,
 "nbformat_minor": 2
}
